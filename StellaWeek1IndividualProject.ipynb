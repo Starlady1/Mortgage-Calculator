{
 "cells": [
  {
   "cell_type": "code",
   "execution_count": 25,
   "id": "3de3f26b-ccd8-431d-98a5-cb4ac19516a7",
   "metadata": {},
   "outputs": [
    {
     "name": "stdin",
     "output_type": "stream",
     "text": [
      "Enter loan amount: 1000000\n",
      "Enter the annual percent interest: 7.5\n",
      "Enter loan tenor in years: 30\n"
     ]
    },
    {
     "name": "stdout",
     "output_type": "stream",
     "text": [
      "monthly repayment for this loan = GHS 6992.145085527765\n",
      "Total repayment for selected tenor = GHS 209764.35256583296\n"
     ]
    }
   ],
   "source": [
    "#MORTGAGE CALCULATOR FOR ANY LOAN TENOR\n",
    "\n",
    "# Enter loan amount with input validation\n",
    "while True:\n",
    "    try:\n",
    "        loan_amount = float(input('Enter loan amount:'))\n",
    "        if loan_amount <= 0:\n",
    "            raise ValueError(\"Invalid input. Please enter a valid amount.\")\n",
    "        break\n",
    "    except ValueError as error:\n",
    "        print(error)\n",
    "\n",
    "\n",
    "# Enter percent annual interest with input validation\n",
    "while True:\n",
    "    try:\n",
    "        annual_percent_rate = float(input('Enter the annual percent interest:'))\n",
    "        if annual_percent_rate <= 0:\n",
    "            raise ValueError(\"Invalid input. Please enter a valid percent interest rate.\")\n",
    "        break\n",
    "    except ValueError as error:\n",
    "        print(error)\n",
    "\n",
    "# Enter loan tenor in years with input validation\n",
    "while True:\n",
    "    try:\n",
    "        tenor = float(input('Enter loan tenor in years:'))\n",
    "        if tenor <= 0:\n",
    "            raise ValueError(\"Invalid input. Please enter a valid tenor.\")\n",
    "        break\n",
    "    except ValueError as error:\n",
    "        print(error)\n",
    "\n",
    "# Calculate the monthly interest rate\n",
    "\n",
    "monthly_rate =( annual_percent_rate / 100)/12\n",
    "\n",
    "#calculate loan tenor in months\n",
    "monthly_tenor = tenor * 12\n",
    "\n",
    "#calculate the monthly payment for the loan\n",
    "\n",
    "monthly_payment = loan_amount * (monthly_rate * ((1 + monthly_rate)**monthly_tenor))/((1 + monthly_rate)**monthly_tenor - 1)\n",
    "\n",
    "#calculate total amount to be paid for entire loan tenor\n",
    "Total_repayment = monthly_payment * tenor\n",
    "\n",
    "#Display results\n",
    "print('monthly repayment for this loan = GHS', monthly_payment )\n",
    "print('Total repayment for selected tenor = GHS', Total_repayment)\n",
    "\n",
    "\n"
   ]
  },
  {
   "cell_type": "code",
   "execution_count": null,
   "id": "cad23a0e-faf7-4712-926f-a915d499312d",
   "metadata": {},
   "outputs": [],
   "source": []
  },
  {
   "cell_type": "code",
   "execution_count": null,
   "id": "d3ccdac1-b0ab-472b-bfe7-838fb25b8e75",
   "metadata": {},
   "outputs": [],
   "source": []
  }
 ],
 "metadata": {
  "kernelspec": {
   "display_name": "Python 3 (ipykernel)",
   "language": "python",
   "name": "python3"
  },
  "language_info": {
   "codemirror_mode": {
    "name": "ipython",
    "version": 3
   },
   "file_extension": ".py",
   "mimetype": "text/x-python",
   "name": "python",
   "nbconvert_exporter": "python",
   "pygments_lexer": "ipython3",
   "version": "3.10.11"
  }
 },
 "nbformat": 4,
 "nbformat_minor": 5
}
